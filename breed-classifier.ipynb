{
  "cells": [
    {
      "metadata": {
        "_uuid": "8f2839f25d086af736a60e9eeb907d3b93b6e0e5",
        "_cell_guid": "b1076dfc-b9ad-4769-8c92-a6c4dae69d19",
        "trusted": true,
        "collapsed": true
      },
      "cell_type": "code",
      "source": "%matplotlib inline\nimport time\nimport numpy as np\nimport pandas as pd\nimport datetime as dt\nimport matplotlib.pyplot as plt\nfrom mpl_toolkits.axes_grid1 import ImageGrid\nfrom os import listdir, makedirs, getcwd, remove\nfrom os.path import isfile, join, abspath, exists, isdir, expanduser\nfrom PIL import Image\nimport torch\nfrom torch.optim import lr_scheduler\nfrom torch.autograd import Variable\nfrom torch.utils.data import Dataset, DataLoader\nimport torchvision\nfrom torchvision import transforms, datasets, models",
      "execution_count": 2,
      "outputs": []
    },
    {
      "metadata": {
        "trusted": true,
        "_uuid": "6ae5f05bac747305223db966773df8fdcdcd02b0"
      },
      "cell_type": "code",
      "source": "!ls ../input/pretrained-pytorch-models",
      "execution_count": 11,
      "outputs": [
        {
          "output_type": "stream",
          "text": "densenet161-17b70270.pth\t  resnet50-19c8e357.pth\r\ninception_v3_google-1a9a5a14.pth  squeezenet1_0-a815701f.pth\r\nresnet18-5c106cde.pth\t\t  squeezenet1_1-f364aa15.pth\r\n",
          "name": "stdout"
        }
      ]
    },
    {
      "metadata": {
        "trusted": true,
        "_uuid": "c2ab9d5d34ca56c23aced92207d5095c5f2d97c5"
      },
      "cell_type": "code",
      "source": "cache_dir = expanduser(join('~', '.torch'))\nif not exists(cache_dir):\n    makedirs(cache_dir)\nmodels_dir = join(cache_dir, 'models')\nif not exists(models_dir):\n    makedirs(models_dir)",
      "execution_count": 12,
      "outputs": []
    },
    {
      "metadata": {
        "trusted": true,
        "_uuid": "60d194e5feb6a38c1e17cf7ffa72ac5a9e7ae3fa"
      },
      "cell_type": "code",
      "source": "!cp ../input/pretrained-pytorch-models/* ~/.torch/models",
      "execution_count": 17,
      "outputs": []
    },
    {
      "metadata": {
        "trusted": true,
        "_uuid": "df8b687f125f203f2efa62190a86c20507ae9129"
      },
      "cell_type": "code",
      "source": "!ls ~/.torch/models",
      "execution_count": 18,
      "outputs": [
        {
          "output_type": "stream",
          "text": "densenet161-17b70270.pth\t  resnet50-19c8e357.pth\r\ninception_v3_google-1a9a5a14.pth  squeezenet1_0-a815701f.pth\r\nresnet18-5c106cde.pth\t\t  squeezenet1_1-f364aa15.pth\r\n",
          "name": "stdout"
        }
      ]
    },
    {
      "metadata": {
        "trusted": true,
        "collapsed": true,
        "_uuid": "11bd91f74bbafb5b0c42a4f31dec74a08e50d105"
      },
      "cell_type": "code",
      "source": "",
      "execution_count": null,
      "outputs": []
    }
  ],
  "metadata": {
    "kernelspec": {
      "display_name": "Python 3",
      "language": "python",
      "name": "python3"
    },
    "language_info": {
      "name": "python",
      "version": "3.6.4",
      "mimetype": "text/x-python",
      "codemirror_mode": {
        "name": "ipython",
        "version": 3
      },
      "pygments_lexer": "ipython3",
      "nbconvert_exporter": "python",
      "file_extension": ".py"
    }
  },
  "nbformat": 4,
  "nbformat_minor": 1
}